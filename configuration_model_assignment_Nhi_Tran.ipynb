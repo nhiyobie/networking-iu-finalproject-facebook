{
 "cells": [
  {
   "cell_type": "markdown",
   "metadata": {},
   "source": [
    "# Applying the configuration model\n",
    "\n",
    "## Why random graphs?\n",
    "In an early assignment we compared a BA network with an ER graph and saw that the degree distribution and shortest path length were quite different. If all we wanted to know was how the degree distributions were different than an ER graph isn't an unreasonable choice. However, as you learned in the reading and from looking at several different real world graphs you should be aware by now that most graphs don't have a simple poisson degree distribution. So while the ER graph is a simple model, it unfortunately isn't a good null model. \n",
    "\n",
    "Null models are often used in hypothesis testing to aid in the acceptance/rejection of some alternative hypothesis. The null, being the default assumption. In network science null models can also be used for statistical hypothesis testing and for determining whether certain graph features are responsible for some characteristic of the graph or some pattern of behavior on the graph (e.g. epidemic models or random walkers). \n",
    "\n",
    "The null model should match some of the real graph's topological characteristics but should otherwise be random. The configuration model allows us to hold the degree sequence constant while investigating other graph characteristics.\n",
    "\n",
    "## Back to dolphins\n",
    "Lets build a mock hypothesis using the [dolphin social network](http://www-personal.umich.edu/~mejn/netdata/dolphins.zip). My hypothesis is that dolphins have a posh and very exclusive culture. Popular dolphins only hang with other popular dolphins, while the loners are stuck to mingle among themselves. A sad state of affairs, but social life is hard in the pods. How might we test this?\n",
    "\n",
    "There happens to be a similarity measure called [assortativity](https://en.wikipedia.org/wiki/Assortativity) where nodes of a certain type tend to be connected to nodes of the same type. In networkx there is a function called [degree assortativity](https://networkx.github.io/documentation/stable/reference/algorithms/generated/networkx.algorithms.assortativity.degree_assortativity_coefficient.html?highlight=degree_assortativity_coefficient#networkx.algorithms.assortativity.degree_assortativity_coefficient) which tells us how strongly nodes of similar degree are attached to each other. If the network has high degree assortativity, then low degree nodes will be connected to other low degree nodes, and high degree nodes will be connected to other high degree nodes. Conversely, low degree assortativity (or even disassortativity) would imply no (or negative) relationship. \n",
    "\n",
    "Excellent, so we have a measure, but what do we compare our graph too? It wouldn't really be appropriate to compare it to an ER graph because the nodes all have different degrees which are about the same and normally distributed. Instead, we want to compare our dolphin network to a graph with the same degree distribution, and that is where the configuration model comes in."
   ]
  },
  {
   "cell_type": "markdown",
   "metadata": {},
   "source": [
    "## Testing the dolphin hypothesis\n",
    "We are going to do a rough test for our hypothesis by calculating the z-score for our dolphin network's degree assortativity coefficient. We will do this by generating a bunch of configuration models based on the dolphin degree sequence and calculating the assortativity coefficient for those null graphs. We can then compare our real network with the null model. If our z-score is high then it is unlikely that the dolphin network's assortativity can be accounted for by just the degree-sequence of a random graph, which means something more interesting is at work.\n",
    "\n",
    "Lets carry out this experiment:"
   ]
  },
  {
   "cell_type": "code",
   "execution_count": 1,
   "metadata": {
    "collapsed": false
   },
   "outputs": [
    {
     "name": "stdout",
     "output_type": "stream",
     "text": [
      "Graph\n"
     ]
    }
   ],
   "source": [
    "# We should load networkx and scipy (which has statistical tools)\n",
    "import networkx as nx\n",
    "import scipy.stats as stats\n",
    "\n",
    "# Lets load the dolphin social network\n",
    "dolphin_net = nx.read_gml(\"dolphins.gml\")\n",
    "\n",
    "# Often networkx will auto-load graphs as MultiGraphs\n",
    "# I know this network is simple, so I will make sure it is of graph type Graph.\n",
    "# Don't do this if your graph is directed. Directed graphs are of type DiGraph\n",
    "dolphin_net = nx.Graph(dolphin_net)\n",
    "print(type(dolphin_net).__name__)"
   ]
  },
  {
   "cell_type": "markdown",
   "metadata": {},
   "source": [
    "Now that the graph is loaded in lets calculate the degree assortativity:"
   ]
  },
  {
   "cell_type": "code",
   "execution_count": 2,
   "metadata": {
    "collapsed": false
   },
   "outputs": [
    {
     "name": "stdout",
     "output_type": "stream",
     "text": [
      "-0.04359402821531252\n"
     ]
    }
   ],
   "source": [
    "real_assortativity = nx.degree_assortativity_coefficient(dolphin_net)\n",
    "print(real_assortativity)"
   ]
  },
  {
   "cell_type": "markdown",
   "metadata": {},
   "source": [
    "Interesting! So it appears that the network is disassortative, so it seems like our hypothesis about the dolphins is falling appart, but we still need to compare it to a null model in order to determine whether there is anything of interest to be pursued here.\n",
    "\n",
    "Networkx has a [configuration model](https://networkx.github.io/documentation/stable/reference/generated/networkx.generators.degree_seq.configuration_model.html?highlight=configuration_model) function that can be used to generate our null models. We can use it by passing it a degree sequence, which we will do using the dolphin network:"
   ]
  },
  {
   "cell_type": "code",
   "execution_count": 3,
   "metadata": {
    "collapsed": true
   },
   "outputs": [],
   "source": [
    "# nx.degree returns a dictionary, but all we want is a list of the\n",
    "# degrees. We can get this by getting the dictionary values and\n",
    "# converting those values to a list.\n",
    "dolphin_degree_sequence = list(dict(nx.degree(dolphin_net)).values())\n",
    "\n",
    "# We need to generate enough null graphs to make a reasonable assessment of the null distribution\n",
    "model_assortativity = []\n",
    "for i in range(1000):\n",
    "    # Use the configuration model to create a null graph\n",
    "    null_graph = nx.configuration_model(dolphin_degree_sequence)\n",
    "    \n",
    "    # We need to remove self-loops and parallel edges because they don't make\n",
    "    # sense in this social network\n",
    "    null_graph = nx.Graph(null_graph) # removes parallel edges\n",
    "    null_graph.remove_edges_from(nx.selfloop_edges(null_graph)) # removes self-loops\n",
    "    \n",
    "    # Calculate the model's assortativity and add it to the list\n",
    "    model_assortativity.append(nx.degree_assortativity_coefficient(null_graph))"
   ]
  },
  {
   "cell_type": "markdown",
   "metadata": {},
   "source": [
    "Now we can calculate the z-scores using scipy's [zscore](https://docs.scipy.org/doc/scipy/reference/generated/scipy.stats.zscore.html) function. It will print out the z-scores for all the elements of the distribution. If we assume that the dolphin network came from the null distribution then we can calculate the z-score for the dolphin network:"
   ]
  },
  {
   "cell_type": "code",
   "execution_count": 4,
   "metadata": {
    "collapsed": false
   },
   "outputs": [
    {
     "name": "stdout",
     "output_type": "stream",
     "text": [
      "0.015265247544649948\n"
     ]
    }
   ],
   "source": [
    "# Prepend the real assortativity to the model list and have scipy calculate the zscores\n",
    "zscores = stats.zscore([real_assortativity] + model_assortativity)\n",
    "\n",
    "# Just print out the first score which corresponds to the real network\n",
    "print(zscores[0])"
   ]
  },
  {
   "cell_type": "markdown",
   "metadata": {},
   "source": [
    "A z-score corresponds to how many standard deviations out from the mean the sample is. A score of +1 would be one standard deviation above the mean. Since the score is close to zero we can safely conclude that the disassortativity we observed in the dolphin network is explainable entirely from the degree sequence and no other special properties of the network.\n",
    "\n",
    "However, this doesn't mean there aren't low-level features hidden in the network. The degree assortativity score is an aggregative measure, and it can obfuscate local deviations from assortativity that are non-random. There is also a score for the local degree assortativity, but we will not pursue that further here.\n",
    "\n",
    "Now that we have a distribution of null assortativities we can also visualize the distribution and plot our dolphin network's assortativity along with it:"
   ]
  },
  {
   "cell_type": "code",
   "execution_count": 5,
   "metadata": {
    "collapsed": false
   },
   "outputs": [
    {
     "data": {
      "image/png": "[encoded data removed]",
      "text/plain": [
       "<Figure size 432x288 with 1 Axes>"
      ]
     },
     "metadata": {
      "needs_background": "light"
     },
     "output_type": "display_data"
    }
   ],
   "source": [
    "%matplotlib inline\n",
    "import matplotlib.pyplot as plt\n",
    "\n",
    "# Use the histogram function to plot the distribution of assortativity coefficients\n",
    "plt.hist(model_assortativity, bins=50)\n",
    "\n",
    "# axvline produces a vertical line at the designated x position on the graph\n",
    "plt.axvline(real_assortativity, lw=2, color=\"red\") #lw = 2 makes the line thicker\n",
    "plt.show()"
   ]
  },
  {
   "cell_type": "markdown",
   "metadata": {},
   "source": [
    "And there we have it! We have fair reason to conclude that not only is the hypothesis wrong but the surprising disassortativity we found really wasn't anything special after all. [note: reference for [`axvline`](http://matplotlib.org/api/pyplot_api.html?highlight=axvline#matplotlib.pyplot.axvline) in matplotlib]"
   ]
  },
  {
   "cell_type": "markdown",
   "metadata": {},
   "source": [
    "# Assignment\n",
    "\n",
    "1. Pick a graph of your choosing. You can use the graphs you are using for your project or any other real-world graph. Here are a couple places you can find some: [pajek datasets](http://vlado.fmf.uni-lj.si/pub/networks/data/), [Newman's datasets](http://www-personal.umich.edu/~mejn/netdata/). [note: if you use directed graphs makes sure you use the corresponding function [`directed_configuration_model`](https://networkx.github.io/documentation/stable/reference/generated/networkx.generators.degree_seq.directed_configuration_model.html?highlight=configuration_model#networkx.generators.degree_seq.directed_configuration_model)]\n",
    "\n",
    "2. Construct two simple hypotheses around two different measures that you can calculate from the graph. Here is a [list of algorithms that networkx has](https://networkx.github.io/documentation/stable/reference/algorithms/index.html). You aren't limited by measures networkx can calculate. However, do not use a measure that depends entirely on the degree sequence. For instance, it would be silly to compare average degree to the random networks generated by the configuration model because it uses the same degree sequence and so will have the same average degree.\n",
    "\n",
    "3. Carry out a simple hypothesis test for both hypotheses. It can be similar to what I showed here. You are welcome to carry it out in a more robust manner, but the focus of this assignment is getting a hang of using configuration models as null models. Here is a link to [Statistics for Hackers](https://speakerd.s3.amazonaws.com/presentations/7e68b43159d646cf81eda9e1bded8213/Statistics_for_Hackers_-_PyCon2016.pdf). It has a nice little python tutorial for how you can carry out hypothesis testing without all the hard math. Even if you don't use it for this assignment I highly recommend checking it out.\n",
    "\n",
    "4. Provide quantitative analysis and a graphical illustration of your results. It should be clear that your hypothesis was validated/invalidated/inconclusive.\n",
    "\n",
    "5. Answer the following questions:\n",
    "  * What graph are you using?\n",
    "  * What are you hypotheses?\n",
    "  * What measures will you be using to test your hypotheses? How do these measures accomplish this?\n",
    "  * Explain your results. Were they surprising? Did they confirm or reject your hypotheses?\n",
    "  * From these tests, what have you learned about the structure of the network you were investigating?\n",
    "\n",
    "6. Once you are complete submit your Jupyter notebook to Canvas."
   ]
  },
  {
   "cell_type": "markdown",
   "metadata": {},
   "source": [
    "  * What graph are you using?\n",
    "  I am using the facebook page-to-page dataset from https://snap.stanford.edu/data/facebook-large-page-page-network.html. The edge represents the mutual like between pages. \n",
    "  * What are you hypotheses?\n",
    "  My hypotheses are:\n",
    "      1. Nodes with similar degree tends to connect to each other. Another way to put it is that nodes with more mutual likes tends to attract each other.\n",
    "      2. The network is more clustered than a random network. It can be measured by calculating the average clustering coefficient.\n",
    "  * What measures will you be using to test your hypotheses? How do these measures accomplish this?\n",
    "      1. This can be accomplished by measuring the assortability degree. The higher the value, the stronger the connection\n",
    "      2. This can be accomplished by measuring the average clustering coefficient. The higher the value, the stronger the cluster.\n"
   ]
  },
  {
   "cell_type": "code",
   "execution_count": 6,
   "metadata": {
    "collapsed": true
   },
   "outputs": [],
   "source": [
    "facebook_net = nx.read_gexf(\"facebook.gexf\")\n"
   ]
  },
  {
   "cell_type": "code",
   "execution_count": 16,
   "metadata": {
    "collapsed": false
   },
   "outputs": [
    {
     "name": "stdout",
     "output_type": "stream",
     "text": [
      "Graph\n"
     ]
    }
   ],
   "source": [
    "facebook_net = nx.Graph(facebook_net)\n",
    "print(type(facebook_net).__name__)\n",
    "facebook_net.remove_edges_from(nx.selfloop_edges(facebook_net))\n"
   ]
  },
  {
   "cell_type": "code",
   "execution_count": 17,
   "metadata": {
    "collapsed": false
   },
   "outputs": [
    {
     "name": "stdout",
     "output_type": "stream",
     "text": [
      "0.08491250026368989\n"
     ]
    }
   ],
   "source": [
    "real_assortativity_fb = nx.degree_assortativity_coefficient(facebook_net)\n",
    "print(real_assortativity_fb)"
   ]
  },
  {
   "cell_type": "code",
   "execution_count": 9,
   "metadata": {
    "collapsed": true
   },
   "outputs": [],
   "source": [
    "# nx.degree returns a dictionary, but all we want is a list of the\n",
    "# degrees. We can get this by getting the dictionary values and\n",
    "# converting those values to a list.\n",
    "facebook_degree_sequence = list(dict(nx.degree(facebook_net)).values())"
   ]
  },
  {
   "cell_type": "code",
   "execution_count": 11,
   "metadata": {
    "collapsed": false
   },
   "outputs": [],
   "source": [
    "# We need to generate enough null graphs to make a reasonable assessment of the null distribution\n",
    "model_assortativity = []\n",
    "for i in range(1000):\n",
    "    # Use the configuration model to create a null graph\n",
    "    null_graph = nx.configuration_model(facebook_degree_sequence)\n",
    "    \n",
    "    # We need to remove self-loops and parallel edges because they don't make\n",
    "    # sense in this social network\n",
    "    null_graph = nx.Graph(null_graph) # removes parallel edges\n",
    "    null_graph.remove_edges_from(nx.selfloop_edges(null_graph)) # removes self-loops\n",
    "    \n",
    "    # Calculate the model's assortativity and add it to the list\n",
    "    model_assortativity.append(nx.degree_assortativity_coefficient(null_graph))"
   ]
  },
  {
   "cell_type": "code",
   "execution_count": 18,
   "metadata": {
    "collapsed": false
   },
   "outputs": [
    {
     "name": "stdout",
     "output_type": "stream",
     "text": [
      "26.623610958814506\n"
     ]
    }
   ],
   "source": [
    "# Prepend the real assortativity to the model list and have scipy calculate the zscores\n",
    "zscores = stats.zscore([real_assortativity_fb] + model_assortativity)\n",
    "\n",
    "# Just print out the first score which corresponds to the real network\n",
    "print(zscores[0])"
   ]
  },
  {
   "cell_type": "code",
   "execution_count": 19,
   "metadata": {
    "collapsed": false
   },
   "outputs": [
    {
     "data": {
      "image/png": "[encoded data removed]",
      "text/plain": [
       "<Figure size 432x288 with 1 Axes>"
      ]
     },
     "metadata": {
      "needs_background": "light"
     },
     "output_type": "display_data"
    }
   ],
   "source": [
    "%matplotlib inline\n",
    "import matplotlib.pyplot as plt\n",
    "\n",
    "# Use the histogram function to plot the distribution of assortativity coefficients\n",
    "plt.hist(model_assortativity, bins=50)\n",
    "\n",
    "# axvline produces a vertical line at the designated x position on the graph\n",
    "plt.axvline(real_assortativity, lw=2, color=\"red\") #lw = 2 makes the line thicker\n",
    "plt.show()"
   ]
  },
  {
   "cell_type": "markdown",
   "metadata": {},
   "source": [
    "* Explain your results. Were they surprising? Did they confirm or reject your hypotheses?\n",
    "The assortability coefficient of the network is 0.08491250026368989\n",
    "Which means the network has some sort of assortibility but is not high or obvious. It means that similar degree nodes might attract to each other but the degree of attraction is not strong\n",
    "\n",
    "The assortibility can not be explained by the degree sequence of the graph since the real value is nowhere in the model value from the null graph.\n",
    "Our hypotheses is inconclusive as there might be other attributes that cause the real assortibility value to be way off comparing to the null/model values and the assortibility value of the real network is not significantly high.\n",
    "\n",
    "  * From these tests, what have you learned about the structure of the network you were investigating?\n",
    "The structure of the network is not random and it might be highly cluster since it is not comparable to a null random network at all."
   ]
  },
  {
   "cell_type": "code",
   "execution_count": 22,
   "metadata": {
    "collapsed": false
   },
   "outputs": [
    {
     "name": "stdout",
     "output_type": "stream",
     "text": [
      "0.3597383824426942\n"
     ]
    }
   ],
   "source": [
    "\n",
    "real_clustering_coefficient = nx.average_clustering(facebook_net)\n",
    "print(real_clustering_coefficient)"
   ]
  },
  {
   "cell_type": "code",
   "execution_count": 23,
   "metadata": {
    "collapsed": true
   },
   "outputs": [],
   "source": [
    "# We need to generate enough null graphs to make a reasonable assessment of the null distribution\n",
    "model_avg_clustering_coef = []\n",
    "for i in range(1000):\n",
    "    # Use the configuration model to create a null graph\n",
    "    null_graph = nx.configuration_model(facebook_degree_sequence)\n",
    "    \n",
    "    # We need to remove self-loops and parallel edges because they don't make\n",
    "    # sense in this social network\n",
    "    null_graph = nx.Graph(null_graph) # removes parallel edges\n",
    "    null_graph.remove_edges_from(nx.selfloop_edges(null_graph)) # removes self-loops\n",
    "    \n",
    "    # Calculate the model's assortativity and add it to the list\n",
    "    model_avg_clustering_coef.append(nx.average_clustering(null_graph))"
   ]
  },
  {
   "cell_type": "code",
   "execution_count": 24,
   "metadata": {
    "collapsed": false
   },
   "outputs": [
    {
     "name": "stdout",
     "output_type": "stream",
     "text": [
      "31.61275943892454\n"
     ]
    }
   ],
   "source": [
    "# Prepend the real assortativity to the model list and have scipy calculate the zscores\n",
    "zscore_ac = stats.zscore([real_clustering_coefficient] + model_avg_clustering_coef)\n",
    "\n",
    "# Just print out the first score which corresponds to the real network\n",
    "print(zscore_ac[0])"
   ]
  },
  {
   "cell_type": "code",
   "execution_count": 29,
   "metadata": {
    "collapsed": false
   },
   "outputs": [
    {
     "data": {
      "image/png": "[encoded data removed]",
      "text/plain": [
       "<Figure size 432x288 with 1 Axes>"
      ]
     },
     "metadata": {
      "needs_background": "light"
     },
     "output_type": "display_data"
    }
   ],
   "source": [
    "%matplotlib inline\n",
    "import matplotlib.pyplot as plt\n",
    "\n",
    "# Use the histogram function to plot the distribution of assortativity coefficients\n",
    "plt.hist(model_avg_clustering_coef, bins=100)\n",
    "\n",
    "# axvline produces a vertical line at the designated x position on the graph\n",
    "plt.axvline(real_clustering_coefficient, lw=2, color=\"red\") #lw = 2 makes the line thicker\n",
    "plt.show()"
   ]
  },
  {
   "cell_type": "markdown",
   "metadata": {},
   "source": [
    "* Explain your results. Were they surprising? Did they confirm or reject your hypotheses?\n",
    "The average clustering coefficient of the network is 0.3597383824426942 which means the network is somewhat clustered, more than a normal random network\n",
    "\n",
    "The assortibility can not be explained by the degree sequence of the graph since the real value is nowhere close to the model value from the null graph.\n",
    "Our hypotheses is confirmed as the average coefficient of the network is a lot higher than the model's cluster coefficient.\n",
    "\n",
    "  * From these tests, what have you learned about the structure of the network you were investigating?\n",
    "The structure of the network is not random and it is quite clustered."
   ]
  },
  {
   "cell_type": "code",
   "execution_count": null,
   "metadata": {
    "collapsed": true
   },
   "outputs": [],
   "source": []
  }
 ],
 "metadata": {
  "anaconda-cloud": {},
  "kernelspec": {
   "display_name": "Python [conda env:py37]",
   "language": "python",
   "name": "conda-env-py37-py"
  },
  "language_info": {
   "codemirror_mode": {
    "name": "ipython",
    "version": 3
   },
   "file_extension": ".py",
   "mimetype": "text/x-python",
   "name": "python",
   "nbconvert_exporter": "python",
   "pygments_lexer": "ipython3",
   "version": "3.7.3"
  }
 },
 "nbformat": 4,
 "nbformat_minor": 1
}
